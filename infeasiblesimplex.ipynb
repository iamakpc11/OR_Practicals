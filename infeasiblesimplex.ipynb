{
  "nbformat": 4,
  "nbformat_minor": 0,
  "metadata": {
    "colab": {
      "name": "infeasiblesimplex.ipynb",
      "provenance": [],
      "authorship_tag": "ABX9TyNDmRYWLXZdn9iJWDbXoIdn"
    },
    "kernelspec": {
      "name": "python3",
      "display_name": "Python 3"
    },
    "language_info": {
      "name": "python"
    }
  },
  "cells": [
    {
      "cell_type": "code",
      "execution_count": 1,
      "metadata": {
        "id": "j_4dhVtFm-Vh"
      },
      "outputs": [],
      "source": [
        "from scipy.optimize import linprog\n",
        "# Max z= 200x - 300y\n",
        "# subject to\n",
        "# 2x+3y>=1200\n",
        "# x+y<=400\n",
        "# 2x+3/2y>=900\n",
        "# x,y>=0"
      ]
    },
    {
      "cell_type": "code",
      "source": [
        "obj = [-200, 300]"
      ],
      "metadata": {
        "id": "thOpr1bUnKSv"
      },
      "execution_count": 2,
      "outputs": []
    },
    {
      "cell_type": "code",
      "source": [
        "lhs_ineq = [[ -2, -3], # Red constraint left side\n",
        "... [1, 1], # Blue constraint left side\n",
        "... [ -2, -1.5]] # Yellow constraint left side"
      ],
      "metadata": {
        "id": "QgaHZb1ynNe0"
      },
      "execution_count": 3,
      "outputs": []
    },
    {
      "cell_type": "code",
      "source": [
        "rhs_ineq = [-1200, # Red constraint right side\n",
        "... 400, # Blue constraint right side\n",
        "... -900] # Yellow constraint right side"
      ],
      "metadata": {
        "id": "in73v5krnQPT"
      },
      "execution_count": 4,
      "outputs": []
    },
    {
      "cell_type": "code",
      "source": [
        "bnd = [(0, float(\"inf\")), # Bounds of x\n",
        "... (0, float(\"inf\"))] # Bounds of y"
      ],
      "metadata": {
        "id": "stZG2hewnTmt"
      },
      "execution_count": 5,
      "outputs": []
    },
    {
      "cell_type": "code",
      "source": [
        "opt = linprog(c=obj, A_ub=lhs_ineq, b_ub=rhs_ineq,\n",
        "... bounds=bnd,\n",
        "... method=\"revised simplex\")"
      ],
      "metadata": {
        "id": "fuj4XQz3nWXP"
      },
      "execution_count": 12,
      "outputs": []
    },
    {
      "cell_type": "code",
      "source": [
        "opt"
      ],
      "metadata": {
        "colab": {
          "base_uri": "https://localhost:8080/"
        },
        "id": "so-pipR6nafO",
        "outputId": "7e49e6cf-245c-4510-c902-e537994e27f7"
      },
      "execution_count": 13,
      "outputs": [
        {
          "output_type": "execute_result",
          "data": {
            "text/plain": [
              "     con: array([], dtype=float64)\n",
              "     fun: 120000.0\n",
              " message: 'The problem appears infeasible, as the phase one auxiliary problem terminated successfully with a residual of 3.0e+02, greater than the tolerance 1e-12 required for the solution to be considered feasible. Consider increasing the tolerance to be greater than 3.0e+02. If this tolerance is unnaceptably large, the problem is likely infeasible.'\n",
              "     nit: 1\n",
              "   slack: array([   0.,    0., -300.])\n",
              "  status: 2\n",
              " success: False\n",
              "       x: array([  0., 400.])"
            ]
          },
          "metadata": {},
          "execution_count": 13
        }
      ]
    }
  ]
}