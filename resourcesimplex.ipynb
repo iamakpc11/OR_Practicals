{
  "nbformat": 4,
  "nbformat_minor": 0,
  "metadata": {
    "colab": {
      "name": "resourcesimplex.ipynb",
      "provenance": [],
      "authorship_tag": "ABX9TyOav5ly0ajEPrt9tS2eN02W"
    },
    "kernelspec": {
      "name": "python3",
      "display_name": "Python 3"
    },
    "language_info": {
      "name": "python"
    }
  },
  "cells": [
    {
      "cell_type": "code",
      "execution_count": 1,
      "metadata": {
        "id": "rh9uxQbZmbmf"
      },
      "outputs": [],
      "source": [
        "from scipy.optimize import linprog\n",
        "# Max z= 20x1 + 12x2 +40x3 + 25x4 .............(profit)\n",
        "# subjected to:\n",
        "# x1 + x2 + x3 + x4 <= 50 -------------(manpower)\n",
        "# 3x1 + 2x2 + x3 <= 100 -------------(material A)\n",
        "# x2 + 2x3 <= 90 -------------(material B)\n",
        "# x1, x2, x3, x4 >= 0"
      ]
    },
    {
      "cell_type": "code",
      "source": [
        "obj = [-20, -12, -40, -25] #profit objective function"
      ],
      "metadata": {
        "id": "9k2pwybemntp"
      },
      "execution_count": 2,
      "outputs": []
    },
    {
      "cell_type": "code",
      "source": [
        "lhs_ineq = [[1, 1, 1, 1], # Manpower\n",
        "... [3, 2, 1, 0], # Material A\n",
        "... [0, 1, 2, 3]] # Material B"
      ],
      "metadata": {
        "id": "YUBL2E4cmsCd"
      },
      "execution_count": 3,
      "outputs": []
    },
    {
      "cell_type": "code",
      "source": [
        "rhs_ineq = [ 50, # Manpower\n",
        "... 100, # Material A\n",
        "... 90] # Material B"
      ],
      "metadata": {
        "id": "BJ-BzGkgmvnX"
      },
      "execution_count": 4,
      "outputs": []
    },
    {
      "cell_type": "code",
      "source": [
        "opt = linprog(c=obj, A_ub=lhs_ineq, b_ub=rhs_ineq,\n",
        "... method=\"revised simplex\")"
      ],
      "metadata": {
        "id": "nmrlQevTmyKt"
      },
      "execution_count": 5,
      "outputs": []
    },
    {
      "cell_type": "code",
      "source": [
        "opt"
      ],
      "metadata": {
        "colab": {
          "base_uri": "https://localhost:8080/"
        },
        "id": "KVfH5lyOm0mZ",
        "outputId": "bf39e590-042c-40e9-e8b7-fa062d9f866a"
      },
      "execution_count": 6,
      "outputs": [
        {
          "output_type": "execute_result",
          "data": {
            "text/plain": [
              "     con: array([], dtype=float64)\n",
              "     fun: -1900.0\n",
              " message: 'Optimization terminated successfully.'\n",
              "     nit: 2\n",
              "   slack: array([ 0., 40.,  0.])\n",
              "  status: 0\n",
              " success: True\n",
              "       x: array([ 5.,  0., 45.,  0.])"
            ]
          },
          "metadata": {},
          "execution_count": 6
        }
      ]
    }
  ]
}