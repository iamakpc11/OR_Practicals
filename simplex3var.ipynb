{
  "nbformat": 4,
  "nbformat_minor": 0,
  "metadata": {
    "colab": {
      "name": "simplex3var.ipynb",
      "provenance": [],
      "authorship_tag": "ABX9TyP0xDS4Th/uR62GlnfGpYsk"
    },
    "kernelspec": {
      "name": "python3",
      "display_name": "Python 3"
    },
    "language_info": {
      "name": "python"
    }
  },
  "cells": [
    {
      "cell_type": "code",
      "execution_count": 1,
      "metadata": {
        "id": "UfoFx0Xejfiz"
      },
      "outputs": [],
      "source": [
        "from scipy.optimize import linprog\n",
        "#Min z= x1-3x2+2x3\n",
        "#subject to\n",
        "#3x1-x2+3x3<=7\n",
        "#-2x1+4x2<=12\n",
        "#-4x1+3x2+8x3<=10\n",
        "#x1,x2,x3>=0"
      ]
    },
    {
      "cell_type": "code",
      "source": [
        "obj = [1, -3, 2]"
      ],
      "metadata": {
        "id": "bFCSDtqtkBio"
      },
      "execution_count": 2,
      "outputs": []
    },
    {
      "cell_type": "code",
      "source": [
        "lhs_ineq = [[ 3, -1, 3], # Red constraint left side\n",
        "... [-2, 4, 0], # Blue constraint left side\n",
        "... [ -4, 3, 8]] # Yellow constraint left side"
      ],
      "metadata": {
        "id": "UI6lsOJnkZLw"
      },
      "execution_count": 3,
      "outputs": []
    },
    {
      "cell_type": "code",
      "source": [
        "rhs_ineq = [7,  # Red constraint right side\n",
        "...             12,  # Blue constraint right side\n",
        "...              10]  # Yellow constraint right side"
      ],
      "metadata": {
        "id": "pa92vr2PkIFO"
      },
      "execution_count": 5,
      "outputs": []
    },
    {
      "cell_type": "code",
      "source": [
        "bnd = [(0, float(\"inf\")), # Bounds of x\n",
        "... (0, float(\"inf\")),\n",
        "... (0, float(\"inf\"))] # Bounds of y"
      ],
      "metadata": {
        "id": "pjXL1uyWkKqT"
      },
      "execution_count": 6,
      "outputs": []
    },
    {
      "cell_type": "code",
      "source": [
        "opt = linprog(c=obj, A_ub=lhs_ineq, b_ub=rhs_ineq,\n",
        "... bounds=bnd,\n",
        "... method=\"revised simplex\")"
      ],
      "metadata": {
        "id": "0UE-fMn7kNyb"
      },
      "execution_count": 7,
      "outputs": []
    },
    {
      "cell_type": "code",
      "source": [
        "opt"
      ],
      "metadata": {
        "colab": {
          "base_uri": "https://localhost:8080/"
        },
        "id": "DZRaJqj3kO_e",
        "outputId": "d822b821-d226-4213-c8c2-14cb25859555"
      },
      "execution_count": 8,
      "outputs": [
        {
          "output_type": "execute_result",
          "data": {
            "text/plain": [
              "     con: array([], dtype=float64)\n",
              "     fun: -11.0\n",
              " message: 'Optimization terminated successfully.'\n",
              "     nit: 2\n",
              "   slack: array([ 0.,  0., 11.])\n",
              "  status: 0\n",
              " success: True\n",
              "       x: array([4., 5., 0.])"
            ]
          },
          "metadata": {},
          "execution_count": 8
        }
      ]
    }
  ]
}