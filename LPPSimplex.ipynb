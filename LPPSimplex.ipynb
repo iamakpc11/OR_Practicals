{
  "nbformat": 4,
  "nbformat_minor": 0,
  "metadata": {
    "colab": {
      "name": "LPPSimplex.ipynb",
      "provenance": [],
      "authorship_tag": "ABX9TyOxvbO9G+ha3msAtbuLKulG"
    },
    "kernelspec": {
      "name": "python3",
      "display_name": "Python 3"
    },
    "language_info": {
      "name": "python"
    }
  },
  "cells": [
    {
      "cell_type": "code",
      "metadata": {
        "id": "JRKda6IfTz7Z"
      },
      "source": [
        "from scipy.optimize import linprog"
      ],
      "execution_count": 14,
      "outputs": []
    },
    {
      "cell_type": "code",
      "metadata": {
        "id": "cabT8Mg5UDRU"
      },
      "source": [
        "#max z =3x1+2x2\n",
        "#subject to\n",
        "#x1 + x2 <=4\n",
        "#x1 - x2 <=2\n",
        "#x1, x2 >=0"
      ],
      "execution_count": 2,
      "outputs": []
    },
    {
      "cell_type": "code",
      "metadata": {
        "id": "xXYsqGCmUUfm"
      },
      "source": [
        "obj = [-3, -2]"
      ],
      "execution_count": 15,
      "outputs": []
    },
    {
      "cell_type": "code",
      "metadata": {
        "id": "y-Pv9-FkV6yc"
      },
      "source": [
        "lhs_ineq = [[ 1,  1],  # Red constraint left side\n",
        "...             [1,  -1]]  # Blue constraint left side"
      ],
      "execution_count": 17,
      "outputs": []
    },
    {
      "cell_type": "code",
      "metadata": {
        "id": "8gc96-_pXrGg"
      },
      "source": [
        "rhs_ineq = [4,  # Red constraint right side\n",
        "...             2]  # Blue constraint right side"
      ],
      "execution_count": 19,
      "outputs": []
    },
    {
      "cell_type": "code",
      "metadata": {
        "id": "GJLD0NioWDGC"
      },
      "source": [
        "bnd = [(0, float(\"inf\")),  # Bounds of x\n",
        "...        (0, float(\"inf\"))]  # Bounds of y"
      ],
      "execution_count": 20,
      "outputs": []
    },
    {
      "cell_type": "code",
      "metadata": {
        "id": "WEWQsVx9X4Qq"
      },
      "source": [
        "opt = linprog(c = obj, A_ub = lhs_ineq, b_ub = rhs_ineq,\n",
        "...                bounds=bnd,method=\"revised simplex\")"
      ],
      "execution_count": 28,
      "outputs": []
    },
    {
      "cell_type": "code",
      "metadata": {
        "colab": {
          "base_uri": "https://localhost:8080/"
        },
        "id": "5skFVsrUaGe-",
        "outputId": "8e6f6e6a-5085-4e47-d84e-8c7b6b7b630c"
      },
      "source": [
        "opt"
      ],
      "execution_count": 29,
      "outputs": [
        {
          "output_type": "execute_result",
          "data": {
            "text/plain": [
              "     con: array([], dtype=float64)\n",
              "     fun: -11.0\n",
              " message: 'Optimization terminated successfully.'\n",
              "     nit: 2\n",
              "   slack: array([0., 0.])\n",
              "  status: 0\n",
              " success: True\n",
              "       x: array([3., 1.])"
            ]
          },
          "metadata": {},
          "execution_count": 29
        }
      ]
    },
    {
      "cell_type": "code",
      "metadata": {
        "colab": {
          "base_uri": "https://localhost:8080/"
        },
        "id": "3HGQCw-VZvMx",
        "outputId": "dd6a77ca-9f7a-46f9-ad96-3b305edc394f"
      },
      "source": [
        "opt.fun"
      ],
      "execution_count": 23,
      "outputs": [
        {
          "output_type": "execute_result",
          "data": {
            "text/plain": [
              "-11.0"
            ]
          },
          "metadata": {},
          "execution_count": 23
        }
      ]
    },
    {
      "cell_type": "code",
      "metadata": {
        "colab": {
          "base_uri": "https://localhost:8080/"
        },
        "id": "Lp1xletIZ_fy",
        "outputId": "263e2681-4efc-425e-bc1a-e56fd540146e"
      },
      "source": [
        "opt.success"
      ],
      "execution_count": 25,
      "outputs": [
        {
          "output_type": "execute_result",
          "data": {
            "text/plain": [
              "True"
            ]
          },
          "metadata": {},
          "execution_count": 25
        }
      ]
    },
    {
      "cell_type": "code",
      "metadata": {
        "colab": {
          "base_uri": "https://localhost:8080/"
        },
        "id": "Wh47Y5qCaCqg",
        "outputId": "a6415dcc-37d9-4319-b1e2-1da2da232f43"
      },
      "source": [
        "opt.x"
      ],
      "execution_count": 26,
      "outputs": [
        {
          "output_type": "execute_result",
          "data": {
            "text/plain": [
              "array([3., 1.])"
            ]
          },
          "metadata": {},
          "execution_count": 26
        }
      ]
    }
  ]
}