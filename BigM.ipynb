{
  "nbformat": 4,
  "nbformat_minor": 0,
  "metadata": {
    "colab": {
      "name": "BigM.ipynb",
      "provenance": [],
      "authorship_tag": "ABX9TyOJ+qQOavsly+4rvgbHpdyE"
    },
    "kernelspec": {
      "name": "python3",
      "display_name": "Python 3"
    },
    "language_info": {
      "name": "python"
    }
  },
  "cells": [
    {
      "cell_type": "code",
      "execution_count": 2,
      "metadata": {
        "id": "WAZMEQqwlsDS"
      },
      "outputs": [],
      "source": [
        "from scipy.optimize import linprog\n",
        "#Min z= 4x1 + x2\n",
        "#subjected to:\n",
        "#3x1 + 4x2 >= 20\n",
        "#x1 + 5x2 >= 15\n",
        "#x1, x2 >= 0"
      ]
    },
    {
      "cell_type": "code",
      "source": [
        "obj = [4, 1]"
      ],
      "metadata": {
        "id": "dEomppXul3xn"
      },
      "execution_count": 3,
      "outputs": []
    },
    {
      "cell_type": "code",
      "source": [
        "lhs_ineq = [[ -3, -4], # left side of first constraint\n",
        "... [-1, -5]] # right side of first constraint"
      ],
      "metadata": {
        "id": "BxdA0t-Pl6ft"
      },
      "execution_count": 4,
      "outputs": []
    },
    {
      "cell_type": "code",
      "source": [
        "rhs_ineq = [-20, # right side of first constraint\n",
        "... -15] # right side of Second constraint"
      ],
      "metadata": {
        "id": "83Np9c5Nl8u_"
      },
      "execution_count": 5,
      "outputs": []
    },
    {
      "cell_type": "code",
      "source": [
        "bnd = [(0, float(\"inf\")), # Bounds of x1\n",
        "... (0, float(\"inf\"))] # Bounds of x2"
      ],
      "metadata": {
        "id": "qV3HD-FImI5E"
      },
      "execution_count": 6,
      "outputs": []
    },
    {
      "cell_type": "code",
      "source": [
        "opt = linprog(c=obj, A_ub=lhs_ineq, b_ub=rhs_ineq,\n",
        "... bounds=bnd,method=\"interior-point\")"
      ],
      "metadata": {
        "colab": {
          "base_uri": "https://localhost:8080/"
        },
        "id": "OxAJErjamMqW",
        "outputId": "ac8df063-e96f-462a-f9d3-a049f27bd91e"
      },
      "execution_count": 7,
      "outputs": [
        {
          "output_type": "stream",
          "name": "stderr",
          "text": [
            "/usr/local/lib/python3.7/dist-packages/numpy/core/fromnumeric.py:87: VisibleDeprecationWarning: Creating an ndarray from ragged nested sequences (which is a list-or-tuple of lists-or-tuples-or ndarrays with different lengths or shapes) is deprecated. If you meant to do this, you must specify 'dtype=object' when creating the ndarray\n",
            "  return ufunc.reduce(obj, axis, dtype, out, **passkwargs)\n"
          ]
        }
      ]
    },
    {
      "cell_type": "code",
      "source": [
        "opt"
      ],
      "metadata": {
        "colab": {
          "base_uri": "https://localhost:8080/"
        },
        "id": "9A3kr-QBmOjK",
        "outputId": "df3b08f6-ce8f-479f-b814-f1776434950a"
      },
      "execution_count": 8,
      "outputs": [
        {
          "output_type": "execute_result",
          "data": {
            "text/plain": [
              "     con: array([], dtype=float64)\n",
              "     fun: 5.000000000236442\n",
              " message: 'Optimization terminated successfully.'\n",
              "     nit: 5\n",
              "   slack: array([1.64256164e-10, 1.00000000e+01])\n",
              "  status: 0\n",
              " success: True\n",
              "       x: array([6.01160437e-11, 5.00000000e+00])"
            ]
          },
          "metadata": {},
          "execution_count": 8
        }
      ]
    }
  ]
}