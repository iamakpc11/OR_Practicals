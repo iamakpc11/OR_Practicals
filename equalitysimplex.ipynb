{
  "nbformat": 4,
  "nbformat_minor": 0,
  "metadata": {
    "colab": {
      "name": "equalitysimplex.ipynb",
      "provenance": [],
      "authorship_tag": "ABX9TyPtYbtG3ASo05c5BP+Tdpwe"
    },
    "kernelspec": {
      "name": "python3",
      "display_name": "Python 3"
    },
    "language_info": {
      "name": "python"
    }
  },
  "cells": [
    {
      "cell_type": "code",
      "execution_count": 1,
      "metadata": {
        "id": "JbzILcX0k5lS"
      },
      "outputs": [],
      "source": [
        "from scipy.optimize import linprog\n",
        "#Max z=x+2y\n",
        "#subject to\n",
        "#2x+y<=20\n",
        "#-4x+5y<=10\n",
        "#-x+2y>=-2\n",
        "#-x+5y=15\n",
        "#x,y>=0"
      ]
    },
    {
      "cell_type": "code",
      "source": [
        "obj = [-1, -2]"
      ],
      "metadata": {
        "id": "pKg_L4QDlA4a"
      },
      "execution_count": 2,
      "outputs": []
    },
    {
      "cell_type": "code",
      "source": [
        "lhs_ineq = [[ 2, 1], # Red constraint left side\n",
        "... [-4, 5], # Blue constraint left side\n",
        "... [ 1, -2]] # Yellow constraint left side"
      ],
      "metadata": {
        "id": "Hw-8-tgjlC0c"
      },
      "execution_count": 3,
      "outputs": []
    },
    {
      "cell_type": "code",
      "source": [
        "rhs_ineq = [20,  # Red constraint right side\n",
        "...             10,  # Blue constraint right side\n",
        "...              2]  # Yellow constraint right side"
      ],
      "metadata": {
        "id": "zi26-VrZlFEo"
      },
      "execution_count": 4,
      "outputs": []
    },
    {
      "cell_type": "code",
      "source": [
        "lhs_eq = [[-1, 5]] # Green constraint left side"
      ],
      "metadata": {
        "id": "tcanGMeSlHzt"
      },
      "execution_count": 5,
      "outputs": []
    },
    {
      "cell_type": "code",
      "source": [
        "rhs_eq = [15] # Green constraint right side"
      ],
      "metadata": {
        "id": "La8GvOpHlR95"
      },
      "execution_count": 6,
      "outputs": []
    },
    {
      "cell_type": "code",
      "source": [
        "bnd = [(0, float(\"inf\")),  # Bounds of x\n",
        "...        (0, float(\"inf\"))]  # Bounds of y"
      ],
      "metadata": {
        "id": "PWWeD909lQQd"
      },
      "execution_count": 7,
      "outputs": []
    },
    {
      "cell_type": "code",
      "source": [
        "opt = linprog(c=obj, A_ub=lhs_ineq, b_ub=rhs_ineq,\n",
        "...               A_eq=lhs_eq, b_eq=rhs_eq, bounds=bnd,\n",
        "...               method=\"revised simplex\")"
      ],
      "metadata": {
        "id": "Vtts6n03lUtE"
      },
      "execution_count": 8,
      "outputs": []
    },
    {
      "cell_type": "code",
      "source": [
        "opt"
      ],
      "metadata": {
        "colab": {
          "base_uri": "https://localhost:8080/"
        },
        "id": "JqfNt4KKlVLy",
        "outputId": "5fc5f151-7301-46b8-b49d-01c5b4a399f6"
      },
      "execution_count": 9,
      "outputs": [
        {
          "output_type": "execute_result",
          "data": {
            "text/plain": [
              "     con: array([1.77635684e-15])\n",
              "     fun: -16.818181818181817\n",
              " message: 'Optimization terminated successfully.'\n",
              "     nit: 3\n",
              "   slack: array([ 0.        , 18.18181818,  3.36363636])\n",
              "  status: 0\n",
              " success: True\n",
              "       x: array([7.72727273, 4.54545455])"
            ]
          },
          "metadata": {},
          "execution_count": 9
        }
      ]
    }
  ]
}